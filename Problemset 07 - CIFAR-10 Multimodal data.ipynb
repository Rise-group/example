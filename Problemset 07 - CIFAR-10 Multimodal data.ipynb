{
 "cells": [
  {
   "cell_type": "code",
   "execution_count": 1,
   "metadata": {},
   "outputs": [
    {
     "name": "stderr",
     "output_type": "stream",
     "text": [
      "/opt/miniconda/lib/python2.7/site-packages/statsmodels/compat/pandas.py:56: FutureWarning: The pandas.core.datetools module is deprecated and will be removed in a future version. Please use the pandas.tseries module instead.\n",
      "  from pandas.core import datetools\n",
      "/opt/miniconda/lib/python2.7/site-packages/h5py/__init__.py:36: FutureWarning: Conversion of the second argument of issubdtype from `float` to `np.floating` is deprecated. In future, it will be treated as `np.float64 == np.dtype(float).type`.\n",
      "  from ._conv import register_converters as _register_converters\n"
     ]
    }
   ],
   "source": [
    "from scipy import io\n",
    "import numpy as np\n",
    "import matplotlib.pyplot as plt\n",
    "import pandas as pd\n",
    "from rlx.ml import Batches, show_image_mosaic\n",
    "from rlx.utils import humanbytes\n",
    "from time import time\n",
    "import tflearn, psutil, gc\n",
    "import h5py\n",
    "from datetime import datetime\n",
    "%matplotlib inline"
   ]
  },
  {
   "cell_type": "code",
   "execution_count": 2,
   "metadata": {},
   "outputs": [
    {
     "name": "stdout",
     "output_type": "stream",
     "text": [
      "free mem 1.18 GB\n"
     ]
    }
   ],
   "source": [
    "from tflearn.layers.core import input_data, dropout, fully_connected\n",
    "from tflearn.layers.conv import conv_2d, max_pool_2d\n",
    "from tflearn.layers.normalization import local_response_normalization\n",
    "from tflearn.layers.estimator import regression\n",
    "import tflearn\n",
    "import tensorflow as tf\n",
    "print \"free mem\", humanbytes(psutil.virtual_memory().free)"
   ]
  },
  {
   "cell_type": "markdown",
   "metadata": {},
   "source": [
    "## Exercise 1: Load CIFAR-10 and create `info` data\n",
    "\n",
    "### Part A: Load CIFATR10\n",
    "download the dataset from https://www.cs.toronto.edu/~kriz/cifar.html and create a function to return selected batches \n"
   ]
  },
  {
   "cell_type": "code",
   "execution_count": 3,
   "metadata": {},
   "outputs": [
    {
     "name": "stdout",
     "output_type": "stream",
     "text": [
      "free mem 1.18 GB\n"
     ]
    }
   ],
   "source": [
    "def load_cifar(batches = [1,2,3,4,5]):\n",
    "    \n",
    "    cifar10_dir =\"mnt/cifar-10-batches-py/cifar-10-batches-py/\"   # this is where you downloaded CIFAR10\n",
    "    data_cifar={\"data\":np.r_, \"labels\":[]}\n",
    "    \n",
    "    def unpickle(file):\n",
    "        import cPickle\n",
    "        with open(file, 'rb') as fo:\n",
    "            dict = cPickle.load(fo)\n",
    "        return dict\n",
    "    \n",
    "    data1=unpickle(cifar10_dir+\"data_batch_1\")\n",
    "    imgs=data1[\"data\"]\n",
    "    labels=data1[\"labels\"]\n",
    "    \n",
    "    if len(batches)>1:\n",
    "            for batch in batches[1:]:\n",
    "                data2=unpickle(cifar10_dir+\"data_batch_%d\"%batch)\n",
    "                data_imgs=data2[\"data\"]\n",
    "                data_labels=data2[\"labels\"]\n",
    "                labels+=data_labels\n",
    "                imgs=np.concatenate((imgs,data_imgs))\n",
    "                \n",
    "                \n",
    "    def onehot_labels(labels):\n",
    "        return np.eye(10)[labels]\n",
    "        \n",
    "    imgs   = imgs.reshape(-1,3,32,32).transpose(0,2,3,1)\n",
    "    labels = np.r_[labels]\n",
    "    ohlabs = onehot_labels(labels)\n",
    "    return imgs, labels, ohlabs\n",
    "\n",
    "\n",
    "def train_test_split(imgs, labels, ohlabs, train_pct=.8, shuffle=True):\n",
    "    \n",
    "    train_size=int(len(imgs)*train_pct)\n",
    "    print(train_size)\n",
    "    \n",
    "    if shuffle:\n",
    "        idxs=np.random.permutation(range(len(imgs)))\n",
    "        \n",
    "    else:\n",
    "        idxs=np.arange((len(imgs)))\n",
    "        \n",
    "    train_imgs   = imgs[idxs[:train_size]]\n",
    "    train_ohlabs = ohlabs[idxs[:train_size]]\n",
    "    train_labels = labels[idxs[:train_size]]\n",
    "\n",
    "    test_imgs   = imgs[idxs[train_size:]]\n",
    "    test_ohlabs = ohlabs[idxs[train_size:]]\n",
    "    test_labels = labels[idxs[train_size:]]\n",
    "\n",
    "    return train_imgs, train_labels, train_ohlabs, test_imgs, test_labels, test_ohlabs\n",
    "\n",
    "print \"free mem\", humanbytes(psutil.virtual_memory().free)"
   ]
  },
  {
   "cell_type": "markdown",
   "metadata": {},
   "source": [
    "** we will use only batch 1**. create variables as in previous problemsets and create additional **INFO** variables with the new information.\n",
    "\n",
    "data shapes must be as follows:\n",
    "\n",
    "        imgs         (10000, 32, 32, 3)\n",
    "        labels       (10000,)\n",
    "        onehot       (10000, 10)\n",
    "        train_imgs   (8000, 32, 32, 3)\n",
    "        train_labels (8000,)\n",
    "        train_ohlabs (8000, 10)\n",
    "        train_info   (8000,)\n",
    "        test_imgs    (2000, 32, 32, 3)\n",
    "        test_labels  (2000,)\n",
    "        test_ohlabs  (2000, 10)\n",
    "        test_info    (2000,)"
   ]
  },
  {
   "cell_type": "code",
   "execution_count": 4,
   "metadata": {},
   "outputs": [
    {
     "name": "stdout",
     "output_type": "stream",
     "text": [
      "40000\n",
      "imgs   (50000, 32, 32, 3)\n",
      "labels (50000,)\n",
      "onehot (50000, 10)\n",
      "train_imgs   (40000, 32, 32, 3)\n",
      "train_labels (40000,)\n",
      "train_ohlabs (40000, 10)\n",
      "test_imgs    (10000, 32, 32, 3)\n",
      "test_labels  (10000,)\n",
      "test_ohlabs  (10000, 10)\n",
      "free mem 755.23 MB\n"
     ]
    }
   ],
   "source": [
    "imgs, labels, ohlabs = load_cifar(batches = [1,2,3,4,5])\n",
    "d = train_test_split(imgs, labels, ohlabs,)\n",
    "train_imgs, train_labels, train_ohlabs, test_imgs, test_labels, test_ohlabs = d\n",
    "\n",
    "print \"imgs  \", imgs.shape\n",
    "print \"labels\", labels.shape\n",
    "print \"onehot\", ohlabs.shape\n",
    "print \"train_imgs  \", train_imgs.shape\n",
    "print \"train_labels\", train_labels.shape\n",
    "print \"train_ohlabs\", train_ohlabs.shape\n",
    "print \"test_imgs   \", test_imgs.shape\n",
    "print \"test_labels \", test_labels.shape\n",
    "print \"test_ohlabs \", test_ohlabs.shape\n",
    "gc.collect()\n",
    "print \"free mem\", humanbytes(psutil.virtual_memory().free)"
   ]
  },
  {
   "cell_type": "markdown",
   "metadata": {},
   "source": [
    "### Part B: Generate info\n",
    "\n",
    "we will add **ONE NEURON** at the last **fully connected layer** with the following values:\n",
    "\n",
    "- **+1** if the image corresponds to a **LIVING THING**\n",
    "- **-1** otherwise\n",
    "\n",
    "complete the following function to transform the `labels` numpy array passed as argument using this convention, such as\n",
    "\n",
    "    [3, 1, 7, 9] --> [1, -1, 1, -1]"
   ]
  },
  {
   "cell_type": "code",
   "execution_count": 5,
   "metadata": {},
   "outputs": [],
   "source": [
    "labcode= np.r_[[  0    ,   1,     2,      3,     4,      5,      6,      7,       8,      9   ]]\n",
    "cnames = np.r_[[\"plane\", \"car\", \"bird\", \"cat\", \"deer\", \"dog\", \"frog\", \"horse\", \"boat\", \"truck\"]]\n",
    "info   = np.r_[[ -1,      -1,     1,      1,     1,      1,      1,      1,       -1,     -1  ]]\n",
    "\n",
    "def get_info(labels):\n",
    "    \n",
    "    labels_info = info[[labels]]\n",
    "    \n",
    "    return labels_info"
   ]
  },
  {
   "cell_type": "markdown",
   "metadata": {},
   "source": [
    "so now we create the info variables for train and test"
   ]
  },
  {
   "cell_type": "code",
   "execution_count": 6,
   "metadata": {},
   "outputs": [
    {
     "name": "stdout",
     "output_type": "stream",
     "text": [
      "(40000,)\n"
     ]
    }
   ],
   "source": [
    "train_info = get_info(train_labels)\n",
    "test_info  = get_info(test_labels)\n",
    "\n",
    "print train_info.shape\n"
   ]
  },
  {
   "cell_type": "markdown",
   "metadata": {},
   "source": [
    "## Exercise 2: Build `tflearn` model\n",
    "\n",
    "use the same network as in the previous problemset **BUT** add an additional input neuron at OUTPUT layer:\n",
    "\n",
    "| layer   | input_size  | output_size | filter_size  | stride | n_filters |activation| var sizes  | params |\n",
    "| ------- |:-----------:|:-----------:|:------------:|:------:|:---------:|:--------:|:--------------:| |\n",
    "| conv1   | 32x32x3     | 32x32x15     | 5x5          |1       | 15        | relu     | W1 = [5,5,3,15]<br/> b = [15]|-|\n",
    "| conv2   | 32x32x15    | 16x16x18    | 5x5          |2       | 18        | relu     | W2 = [5,5,15,18]<br/> b = [18]|-|\n",
    "| conv3   | 16x16x18    | 8x8x20      | 3x3          |2       | 20        | relu     | W3 = [3,3,18,20]<br/> b =[20]|-|\n",
    "| maxpool | 8x8x20      | 4x4x20      |              |        |           |          | | k = 2 |\n",
    "| fc      | 4x4x20      |    100      |              |        |           | relu     | W4 = [320,100]<br/>b=[100]|-|\n",
    "| dropout | 100         |   100       |              |        |           |          | | pkeep = .75 |\n",
    "| output **+ INFO**  | **101**         |   10        |              |        |           | softmax  | W5 = [**101**,10]<br/>b=[10]|-|\n"
   ]
  },
  {
   "cell_type": "code",
   "execution_count": 7,
   "metadata": {},
   "outputs": [
    {
     "name": "stdout",
     "output_type": "stream",
     "text": [
      "free mem 754.95 MB\n"
     ]
    }
   ],
   "source": [
    "def get_TF_graph(pkeep=.075):\n",
    "    tf.reset_default_graph()\n",
    "    \n",
    "    with tf.name_scope(\"data\"):\n",
    "        X      = tf.placeholder(tf.float32, [None, 32, 32, 3]) \n",
    "        X_info = tf.placeholder(tf.float32, [None, 1])\n",
    "        \n",
    "        Y      = tf.placeholder(tf.float32, [None, 10])\n",
    "        network1 = tf.reshape(X, [-1, 32, 32, 3])\n",
    "    \n",
    "    with tf.name_scope(\"layers\"):\n",
    "        num_classes=10\n",
    "        network2 = conv_2d(network1, 15, 5, strides=1, activation='relu', name=\"conv1\", padding=\"SAME\")\n",
    "        network3 = conv_2d(network2, 18, 5, strides=2, activation='relu', name=\"conv2\", padding=\"SAME\")\n",
    "        network4 = conv_2d(network3, 20, 3, strides=2, activation='relu', name=\"conv3\", padding=\"SAME\")\n",
    "        network5 = max_pool_2d(network4, 2, strides=2, name=\"conv3\", padding=\"SAME\")\n",
    "        network6 = fully_connected(network5, 100, activation='relu', name='fc1')\n",
    "        network7 = dropout(network6, pkeep, name='dropout')\n",
    "        network8 = tf.concat((X_info, network7), axis=1)\n",
    "        y_hat = fully_connected(network8, num_classes, activation='softmax', name='fc2')\n",
    "\n",
    "    with tf.name_scope(\"loss\"):\n",
    "        cross_entropy = tf.nn.softmax_cross_entropy_with_logits(logits=y_hat, labels=Y)\n",
    "        loss          = tf.reduce_mean(cross_entropy)*100\n",
    "\n",
    "    with tf.name_scope(\"accuracy\"):\n",
    "        correct_pred = tf.equal(tf.argmax(y_hat, 1), tf.argmax(Y, 1))\n",
    "        accuracy     = tf.reduce_mean(tf.cast(correct_pred, tf.float32))    \n",
    "    \n",
    "    with tf.name_scope(\"optimizer\"):\n",
    "        train_step = tf.train.AdamOptimizer().minimize(loss)\n",
    "        \n",
    "    return X, Y, X_info, y_hat, loss, train_step, accuracy, network2\n",
    "\n",
    "print \"free mem\", humanbytes(psutil.virtual_memory().free)"
   ]
  },
  {
   "cell_type": "code",
   "execution_count": 8,
   "metadata": {},
   "outputs": [
    {
     "name": "stdout",
     "output_type": "stream",
     "text": [
      "WARNING:tensorflow:From /opt/miniconda/lib/python2.7/site-packages/tflearn/initializations.py:119: __init__ (from tensorflow.python.ops.init_ops) is deprecated and will be removed in a future version.\n",
      "Instructions for updating:\n",
      "Use tf.initializers.variance_scaling instead with distribution=uniform to get equivalent behavior.\n"
     ]
    },
    {
     "data": {
      "text/plain": [
       "{u'conv1/W:0': <tf.Variable 'conv1/W:0' shape=(5, 5, 3, 15) dtype=float32_ref>,\n",
       " u'conv1/b:0': <tf.Variable 'conv1/b:0' shape=(15,) dtype=float32_ref>,\n",
       " u'conv2/W:0': <tf.Variable 'conv2/W:0' shape=(5, 5, 15, 18) dtype=float32_ref>,\n",
       " u'conv2/b:0': <tf.Variable 'conv2/b:0' shape=(18,) dtype=float32_ref>,\n",
       " u'conv3/W:0': <tf.Variable 'conv3/W:0' shape=(3, 3, 18, 20) dtype=float32_ref>,\n",
       " u'conv3/b:0': <tf.Variable 'conv3/b:0' shape=(20,) dtype=float32_ref>,\n",
       " u'fc1/W:0': <tf.Variable 'fc1/W:0' shape=(320, 100) dtype=float32_ref>,\n",
       " u'fc1/b:0': <tf.Variable 'fc1/b:0' shape=(100,) dtype=float32_ref>,\n",
       " u'fc2/W:0': <tf.Variable 'fc2/W:0' shape=(101, 10) dtype=float32_ref>,\n",
       " u'fc2/b:0': <tf.Variable 'fc2/b:0' shape=(10,) dtype=float32_ref>}"
      ]
     },
     "execution_count": 8,
     "metadata": {},
     "output_type": "execute_result"
    }
   ],
   "source": [
    "X, Y, X_info, y_hat, loss, train_step, accuracy, network2 = get_TF_graph()\n",
    "vars = {i.name:i for i in tflearn.variables.get_all_trainable_variable()}\n",
    "vars"
   ]
  },
  {
   "cell_type": "markdown",
   "metadata": {},
   "source": [
    "## Exercise 3: implement optimization loop"
   ]
  },
  {
   "cell_type": "code",
   "execution_count": 9,
   "metadata": {},
   "outputs": [
    {
     "name": "stdout",
     "output_type": "stream",
     "text": [
      "cnn_cifar10_info_05-04_11:46\n"
     ]
    }
   ],
   "source": [
    "model_name = \"cnn_cifar10_info_\" + datetime.now().strftime(\"%m-%d_%H:%M\")\n",
    "print model_name"
   ]
  },
  {
   "cell_type": "code",
   "execution_count": 10,
   "metadata": {},
   "outputs": [],
   "source": [
    "def fit (X, Y, X_info,\n",
    "         X_train, y_train, X_train_info, X_test, y_test, X_test_info,\n",
    "         model_name, loss, train_step, accuracy, \n",
    "         batch_size, n_epochs, log_freq):\n",
    "    \n",
    "    saver = tf.train.Saver()\n",
    "    \n",
    "    # Initialize the variables (i.e. assign their default value)\n",
    "    init = tf.global_variables_initializer()\n",
    "    log_train, log_test = [], []\n",
    "\n",
    "    # Start training\n",
    "    from rlx.ml import Batches\n",
    "    from time import time\n",
    "\n",
    "    with tf.Session() as sess:\n",
    "        from datetime import datetime\n",
    "\n",
    "        model_name = model_name + \"_\" + datetime.now().strftime(\"%Y-%m-%d_%H:%M\")\n",
    "        \n",
    "        sess.run(init)\n",
    "\n",
    "        step = 1\n",
    "        t1 = time()\n",
    "        for epoch in range(1,n_epochs+1):\n",
    "            ndata = 0\n",
    "            for batch_X, batch_X_info, batch_y in Batches([X_train, X_train_info, y_train], \n",
    "                                                          batch_size=batch_size, \n",
    "                                                          n_epochs=1, shuffle=True).get():\n",
    "                ndata += len(batch_X)\n",
    "                # Run optimization \n",
    "                train_acc, _ = sess.run([accuracy, train_step], \n",
    "                                         feed_dict={X: batch_X, Y: batch_y,\n",
    "                                                    X_info: batch_X_info.reshape(-1,1)})\n",
    "                t2 = time()\n",
    "                log_train.append([step, t2-t1, train_acc])\n",
    "                print \"\\repoch %3d/%d step %5d: train acc: %.4f, time: %.3f segs, %7d/%d\"%(epoch, n_epochs, step, train_acc, (t2-t1), ndata, len(train_imgs)),\n",
    "                if step%log_freq==0:\n",
    "                    idxs = np.random.permutation(range(len(X_test)))[:1000] \n",
    "                                        \n",
    "                    test_acc = sess.run(accuracy, feed_dict = {X: X_test[idxs], \n",
    "                                                               Y: y_test[idxs],\n",
    "                                                               X_info: X_test_info[idxs].reshape(-1,1)})\n",
    "\n",
    "                    print \"\\repoch %3d/%d step %5d: train acc: %.4f, test acc: %.4f, time: %.3f segs, %d data items\"%(epoch, n_epochs, step, train_acc, test_acc, (t2-t1), ndata)\n",
    "                    log_test.append([step, t2-t1, test_acc])\n",
    "                    saver.save(sess, \"models/\"+model_name+\".tf\")\n",
    "\n",
    "                step += 1\n",
    "\n",
    "        print(\"Optimization Finished!\")\n",
    "\n",
    "        # Calculate accuracy for test images by batches (for low memory)\n",
    "        test_acc = 0\n",
    "        for batch_X, batch_X_info, batch_y in Batches([X_test, X_test_info, y_test], batch_size=batch_size, n_epochs=1).get():\n",
    "            test_acc += sess.run(accuracy, feed_dict={X: batch_X, \n",
    "                                                      Y: batch_y, \n",
    "                                                      X_info: batch_X_info.reshape(-1,1)})*len(batch_X)/len(X_test)\n",
    "            \n",
    "        print(\"Testing Accuracy:\", test_acc)\n",
    "\n",
    "        saver.save(sess, \"models/\"+model_name+\".tf\")\n",
    "        log_train = pd.DataFrame(log_train, columns=[\"step\", \"time\", \"accuracy\"])\n",
    "        log_test  = pd.DataFrame(log_test, columns=[\"step\", \"time\", \"accuracy\"])\n",
    "    return log_train, log_test, model_name\n",
    "    \n",
    "\n",
    "def plot_results(log_train, log_test):\n",
    "    k = log_train.rolling(window=10).mean().dropna()\n",
    "    plt.plot(k.time, k.accuracy, color=\"blue\", lw=2, label=\"train\")\n",
    "    plt.plot(log_test.time, log_test.accuracy, color=\"red\",lw=2, label=\"test\")\n",
    "    plt.legend(loc=\"center left\", bbox_to_anchor=(1,.5))\n",
    "    plt.plot(log_train.time, log_train.accuracy, alpha=.3, color=\"blue\")\n",
    "    plt.grid()\n",
    "    plt.xlabel(\"elapsed time (secs)\")\n",
    "    plt.ylabel(\"accuracy\")\n",
    "    plt.axhline(0.5, color=\"black\")\n",
    "    plt.xlim(0,log_train.time.max()+1)\n",
    "    plt.title(\"final train_acc=%.4f, test_acc=%.4f\"%(log_train.accuracy.values[-1], log_test.accuracy.values[-1]))"
   ]
  },
  {
   "cell_type": "markdown",
   "metadata": {},
   "source": [
    "### train your model !!!"
   ]
  },
  {
   "cell_type": "code",
   "execution_count": null,
   "metadata": {},
   "outputs": [
    {
     "name": "stdout",
     "output_type": "stream",
     "text": [
      "free mem 742.35 MB\n"
     ]
    }
   ],
   "source": [
    "X, Y, X_info, y_hat, loss, train_step, accuracy, network2 = get_TF_graph()\n",
    "print \"free mem\", humanbytes(psutil.virtual_memory().free)"
   ]
  },
  {
   "cell_type": "code",
   "execution_count": null,
   "metadata": {},
   "outputs": [
    {
     "name": "stdout",
     "output_type": "stream",
     "text": [
      "epoch   1/20 step   400: train acc: 0.3600, test acc: 0.3550, time: 763.751 segs, 40000 data items                                                                                                                                                                                                                                                                                                                                                                                         \n",
      "epoch   2/20 step   800: train acc: 0.3600, test acc: 0.3680, time: 1439.305 segs, 40000 data items                                                                                                                                                                                                                                                                                                                                                                                          \n",
      "epoch   3/20 step  1200: train acc: 0.3800, test acc: 0.4120, time: 2112.301 segs, 40000 data items                                                                                                                                                                                                                                                                                                                                                                                           \n",
      "epoch   4/20 step  1600: train acc: 0.3600, test acc: 0.4090, time: 2803.351 segs, 40000 data items                                                                                                                                                                                                                                                                                                                                                                                           \n",
      "epoch   5/20 step  2000: train acc: 0.5000, test acc: 0.4650, time: 3515.082 segs, 40000 data items                                                                                                                                                                                                                                                                                                                                                                                           \n",
      "epoch   6/20 step  2400: train acc: 0.4200, test acc: 0.4600, time: 4176.871 segs, 40000 data items                                                                                                                                                                                                                                                                                                                                                                                           \n",
      "epoch   7/20 step  2800: train acc: 0.4100, test acc: 0.4620, time: 4849.320 segs, 40000 data items                                                                                                                                                                                                                                                                                                                                                                                           \n",
      "epoch   8/20 step  3200: train acc: 0.4100, test acc: 0.4850, time: 5519.653 segs, 40000 data items                                                                                                                                                                                                                                                                                                                                                                                           \n",
      "epoch   9/20 step  3226: train acc: 0.5200, time: 5572.843 segs,    2600/40000                         "
     ]
    }
   ],
   "source": [
    "log_train, log_test, model_name = fit(X, Y, X_info,\n",
    "                                      train_imgs, train_ohlabs, train_info,\n",
    "                                      test_imgs, test_ohlabs, test_info,\n",
    "                                      \"extended_cnn_mnist\", loss, train_step, accuracy,\n",
    "                                      batch_size=100, n_epochs=20, log_freq=400)\n",
    "\n",
    "plot_results(log_train, log_test)\n",
    "print \"free mem\", humanbytes(psutil.virtual_memory().free)"
   ]
  },
  {
   "cell_type": "markdown",
   "metadata": {},
   "source": [
    "## Exercise 4: visualize filters, sample misses and activations"
   ]
  },
  {
   "cell_type": "code",
   "execution_count": 18,
   "metadata": {},
   "outputs": [
    {
     "name": "stdout",
     "output_type": "stream",
     "text": [
      "INFO:tensorflow:Restoring parameters from models/extended_cnn_mnist_2018-04-25_22:14.tf\n"
     ]
    }
   ],
   "source": [
    "with tf.Session() as sess:\n",
    "    saver = tf.train.Saver()\n",
    "    saver.restore(sess, \"models/\"+model_name+\".tf\")    \n",
    "    C1_activations, test_preds, w1= sess.run([network2, y_hat, network2.W], feed_dict={X:test_imgs, X_info: test_info.reshape(-1,1)})"
   ]
  },
  {
   "cell_type": "code",
   "execution_count": 20,
   "metadata": {},
   "outputs": [
    {
     "name": "stdout",
     "output_type": "stream",
     "text": [
      "Show Confusion Matrix\n",
      "(10000,) (10000,)\n",
      "0.5974\n"
     ]
    },
    {
     "data": {
      "text/html": [
       "<div>\n",
       "<style scoped>\n",
       "    .dataframe tbody tr th:only-of-type {\n",
       "        vertical-align: middle;\n",
       "    }\n",
       "\n",
       "    .dataframe tbody tr th {\n",
       "        vertical-align: top;\n",
       "    }\n",
       "\n",
       "    .dataframe thead th {\n",
       "        text-align: right;\n",
       "    }\n",
       "</style>\n",
       "<table border=\"1\" class=\"dataframe\">\n",
       "  <thead>\n",
       "    <tr style=\"text-align: right;\">\n",
       "      <th>predicted</th>\n",
       "      <th>0</th>\n",
       "      <th>1</th>\n",
       "      <th>2</th>\n",
       "      <th>3</th>\n",
       "      <th>4</th>\n",
       "      <th>5</th>\n",
       "      <th>6</th>\n",
       "      <th>7</th>\n",
       "      <th>8</th>\n",
       "      <th>9</th>\n",
       "    </tr>\n",
       "    <tr>\n",
       "      <th>true</th>\n",
       "      <th></th>\n",
       "      <th></th>\n",
       "      <th></th>\n",
       "      <th></th>\n",
       "      <th></th>\n",
       "      <th></th>\n",
       "      <th></th>\n",
       "      <th></th>\n",
       "      <th></th>\n",
       "      <th></th>\n",
       "    </tr>\n",
       "  </thead>\n",
       "  <tbody>\n",
       "    <tr>\n",
       "      <th>0</th>\n",
       "      <td>696</td>\n",
       "      <td>27</td>\n",
       "      <td>6</td>\n",
       "      <td>5</td>\n",
       "      <td>3</td>\n",
       "      <td>1</td>\n",
       "      <td>7</td>\n",
       "      <td>10</td>\n",
       "      <td>105</td>\n",
       "      <td>92</td>\n",
       "    </tr>\n",
       "    <tr>\n",
       "      <th>1</th>\n",
       "      <td>44</td>\n",
       "      <td>621</td>\n",
       "      <td>3</td>\n",
       "      <td>6</td>\n",
       "      <td>0</td>\n",
       "      <td>0</td>\n",
       "      <td>7</td>\n",
       "      <td>2</td>\n",
       "      <td>71</td>\n",
       "      <td>262</td>\n",
       "    </tr>\n",
       "    <tr>\n",
       "      <th>2</th>\n",
       "      <td>5</td>\n",
       "      <td>11</td>\n",
       "      <td>561</td>\n",
       "      <td>91</td>\n",
       "      <td>110</td>\n",
       "      <td>51</td>\n",
       "      <td>137</td>\n",
       "      <td>56</td>\n",
       "      <td>15</td>\n",
       "      <td>9</td>\n",
       "    </tr>\n",
       "    <tr>\n",
       "      <th>3</th>\n",
       "      <td>3</td>\n",
       "      <td>13</td>\n",
       "      <td>128</td>\n",
       "      <td>447</td>\n",
       "      <td>48</td>\n",
       "      <td>113</td>\n",
       "      <td>126</td>\n",
       "      <td>63</td>\n",
       "      <td>11</td>\n",
       "      <td>21</td>\n",
       "    </tr>\n",
       "    <tr>\n",
       "      <th>4</th>\n",
       "      <td>3</td>\n",
       "      <td>10</td>\n",
       "      <td>164</td>\n",
       "      <td>90</td>\n",
       "      <td>453</td>\n",
       "      <td>35</td>\n",
       "      <td>118</td>\n",
       "      <td>106</td>\n",
       "      <td>15</td>\n",
       "      <td>12</td>\n",
       "    </tr>\n",
       "    <tr>\n",
       "      <th>5</th>\n",
       "      <td>1</td>\n",
       "      <td>9</td>\n",
       "      <td>106</td>\n",
       "      <td>262</td>\n",
       "      <td>60</td>\n",
       "      <td>342</td>\n",
       "      <td>87</td>\n",
       "      <td>94</td>\n",
       "      <td>5</td>\n",
       "      <td>17</td>\n",
       "    </tr>\n",
       "    <tr>\n",
       "      <th>6</th>\n",
       "      <td>2</td>\n",
       "      <td>13</td>\n",
       "      <td>66</td>\n",
       "      <td>109</td>\n",
       "      <td>41</td>\n",
       "      <td>27</td>\n",
       "      <td>716</td>\n",
       "      <td>20</td>\n",
       "      <td>5</td>\n",
       "      <td>10</td>\n",
       "    </tr>\n",
       "    <tr>\n",
       "      <th>7</th>\n",
       "      <td>4</td>\n",
       "      <td>8</td>\n",
       "      <td>61</td>\n",
       "      <td>99</td>\n",
       "      <td>111</td>\n",
       "      <td>66</td>\n",
       "      <td>33</td>\n",
       "      <td>627</td>\n",
       "      <td>4</td>\n",
       "      <td>20</td>\n",
       "    </tr>\n",
       "    <tr>\n",
       "      <th>8</th>\n",
       "      <td>136</td>\n",
       "      <td>40</td>\n",
       "      <td>2</td>\n",
       "      <td>7</td>\n",
       "      <td>1</td>\n",
       "      <td>1</td>\n",
       "      <td>0</td>\n",
       "      <td>0</td>\n",
       "      <td>718</td>\n",
       "      <td>86</td>\n",
       "    </tr>\n",
       "    <tr>\n",
       "      <th>9</th>\n",
       "      <td>48</td>\n",
       "      <td>94</td>\n",
       "      <td>2</td>\n",
       "      <td>6</td>\n",
       "      <td>1</td>\n",
       "      <td>3</td>\n",
       "      <td>7</td>\n",
       "      <td>4</td>\n",
       "      <td>33</td>\n",
       "      <td>793</td>\n",
       "    </tr>\n",
       "  </tbody>\n",
       "</table>\n",
       "</div>"
      ],
      "text/plain": [
       "predicted    0    1    2    3    4    5    6    7    8    9\n",
       "true                                                       \n",
       "0          696   27    6    5    3    1    7   10  105   92\n",
       "1           44  621    3    6    0    0    7    2   71  262\n",
       "2            5   11  561   91  110   51  137   56   15    9\n",
       "3            3   13  128  447   48  113  126   63   11   21\n",
       "4            3   10  164   90  453   35  118  106   15   12\n",
       "5            1    9  106  262   60  342   87   94    5   17\n",
       "6            2   13   66  109   41   27  716   20    5   10\n",
       "7            4    8   61   99  111   66   33  627    4   20\n",
       "8          136   40    2    7    1    1    0    0  718   86\n",
       "9           48   94    2    6    1    3    7    4   33  793"
      ]
     },
     "execution_count": 20,
     "metadata": {},
     "output_type": "execute_result"
    }
   ],
   "source": [
    "print \"Show Confusion Matrix\"\n",
    "preds = np.argmax(test_preds, axis=1)\n",
    "print preds.shape, test_labels.shape\n",
    "print np.mean(test_labels==preds)\n",
    "from rlx.ml import confusion_matrix\n",
    "confusion_matrix(test_labels, preds)"
   ]
  },
  {
   "cell_type": "code",
   "execution_count": 21,
   "metadata": {},
   "outputs": [
    {
     "data": {
      "image/png": "[encoded data removed]",
      "text/plain": [
       "<Figure size 1440x216 with 15 Axes>"
      ]
     },
     "metadata": {},
     "output_type": "display_data"
    }
   ],
   "source": [
    "def display_imgs(w, figsize=(20,3)):\n",
    "    plt.figure(figsize=figsize)\n",
    "    for i in range(w.shape[-1]):\n",
    "        plt.subplot(1,w.shape[-1],i+1)\n",
    "        plt.imshow(w[:,:,i], cmap = plt.cm.Greys_r, interpolation=\"none\")\n",
    "        plt.axis(\"off\")\n",
    "        plt.title(i)\n",
    "        \n",
    "display_imgs(w1[:,:,0,:])"
   ]
  },
  {
   "cell_type": "code",
   "execution_count": 132,
   "metadata": {},
   "outputs": [
    {
     "name": "stdout",
     "output_type": "stream",
     "text": [
      "SHOW SOME MISSES\n"
     ]
    },
    {
     "data": {
      "image/png": "[encoded data removed]",
      "text/plain": [
       "<matplotlib.figure.Figure at 0x7f4a77fc7190>"
      ]
     },
     "metadata": {},
     "output_type": "display_data"
    }
   ],
   "source": [
    "print \"SHOW SOME MISSES\"\n",
    "misses = np.argwhere(test_labels != preds)[:,0]\n",
    "idxs = np.random.permutation(misses)[:10]\n",
    "plt.figure(figsize=(20,3))\n",
    "for i,idx in enumerate(idxs):\n",
    "    plt.subplot(1,10,i+1)\n",
    "    plt.imshow(test_imgs[idx][:,:,0], cmap=plt.cm.Greys_r)\n",
    "    plt.axis(\"off\")\n",
    "    plt.title(\"true %d, pred %d\"%(test_labels[idx], preds[idx]))"
   ]
  },
  {
   "cell_type": "code",
   "execution_count": 134,
   "metadata": {},
   "outputs": [
    {
     "name": "stdout",
     "output_type": "stream",
     "text": [
      "show conv1 activations for a random image\n"
     ]
    },
    {
     "data": {
      "image/png": "[encoded data removed]",
      "text/plain": [
       "<matplotlib.figure.Figure at 0x7f4a761e3810>"
      ]
     },
     "metadata": {},
     "output_type": "display_data"
    },
    {
     "data": {
      "image/png": "[encoded data removed]",
      "text/plain": [
       "<matplotlib.figure.Figure at 0x7f4a761e3290>"
      ]
     },
     "metadata": {},
     "output_type": "display_data"
    },
    {
     "data": {
      "image/png": "[encoded data removed]",
      "text/plain": [
       "<matplotlib.figure.Figure at 0x7f4a76140350>"
      ]
     },
     "metadata": {},
     "output_type": "display_data"
    }
   ],
   "source": [
    "print \"show conv1 activations for a random image\"\n",
    "i = np.random.randint(len(test_imgs))\n",
    "\n",
    "plt.imshow(test_imgs[i])\n",
    "display_imgs(w1[:,:,0,:])\n",
    "display_imgs(C1_activations[i])\n"
   ]
  },
  {
   "cell_type": "code",
   "execution_count": null,
   "metadata": {},
   "outputs": [],
   "source": []
  }
 ],
 "metadata": {
  "kernelspec": {
   "display_name": "Python 2",
   "language": "python",
   "name": "python2"
  },
  "language_info": {
   "codemirror_mode": {
    "name": "ipython",
    "version": 2
   },
   "file_extension": ".py",
   "mimetype": "text/x-python",
   "name": "python",
   "nbconvert_exporter": "python",
   "pygments_lexer": "ipython2",
   "version": "2.7.14"
  }
 },
 "nbformat": 4,
 "nbformat_minor": 2
}
